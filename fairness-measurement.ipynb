{
 "cells": [
  {
   "cell_type": "markdown",
   "metadata": {},
   "source": [
    "# Fairness Measurement\n",
    "\n",
    "\n",
    "### Anti-classification\n",
    "Decisions do not consider protected attributes.\n",
    "\n",
    "$$\n",
    "d(x)=d(x') \\: for \\, all \\: x, x'  \\: such \\, that \\: x_u =x'_u.\n",
    "$$\n",
    "\n",
    "> *[The Measure and Mismeasure of Fairness: A Critical Review of Fair Machine Learning](https://arxiv.org/pdf/1808.00023.pdf)*"
   ]
  },
  {
   "cell_type": "markdown",
   "metadata": {},
   "source": [
    "### Classification Parity\n",
    "Some given measure of classification error is equal across groups defined by the protected attributes.\n",
    "- Demographic parity: Parity in the proportion of positive decisions. Though this is not strictly a measure of \"error\", it can be included in classification parity since it can be computed from a confusion matrix.\n",
    "\n",
    "$$\n",
    "Pr(d(X)=1 \\, | \\, X_p) = Pr(d(X)=1)\n",
    "$$\n",
    "\n",
    "- Parity of false positive rates\n",
    "\n",
    "$$\n",
    "Pr(d(X)=1\\, |\\, Y=0, X_p) = Pr(d(X)=1\\,|\\,Y=0)\n",
    "$$\n",
    "\n",
    "> *[The Measure and Mismeasure of Fairness: A Critical Review of Fair Machine Learning](https://arxiv.org/pdf/1808.00023.pdf)*"
   ]
  },
  {
   "cell_type": "markdown",
   "metadata": {},
   "source": [
    "### Calibration\n",
    "Outcomes are independent of protected attributes conditional on risk score $s(x)$. \n",
    "\n",
    "$$\n",
    "Pr(Y=1\\,|\\,s(X), X_p) = Pr(Y=1\\,|\\,s(X))\n",
    "$$ \n",
    "\n",
    "> *[The Measure and Mismeasure of Fairness: A Critical Review of Fair Machine Learning](https://arxiv.org/pdf/1808.00023.pdf)*"
   ]
  },
  {
   "cell_type": "markdown",
   "metadata": {},
   "source": [
    "### Disparate Impact (\"80% rule\")\n",
    "Given data set $D = (X, Y, C)$, with protected\n",
    "attribute $X$ (e.g., race, sex, religion, etc.), remaining attributes $Y$, and binary class to be predicted\n",
    "$C$ (e.g., “will hire”), we will say that $D$ has disparate impact if\n",
    "\n",
    "$$\\frac{Pr(C = YES\\,|\\,X = 0)}{Pr(C = YES\\,|\\,X = 1)} ≤ τ = 0.8$$\n",
    "\n",
    "for positive outcome class $YES$ and majority protected attribute $1$ where $Pr(C = c\\,|\\,X = x)$ denotes\n",
    "the conditional probability (evaluated over $D$) that the class outcome is $c ∈ C$ given protected\n",
    "attribute $x ∈ X$.\n",
    "\n",
    "> *[Certifying and removing disparate impact](https://arxiv.org/pdf/1412.3756.pdf)*"
   ]
  },
  {
   "cell_type": "markdown",
   "metadata": {},
   "source": []
  }
 ],
 "metadata": {
  "kernelspec": {
   "display_name": "Python 3",
   "language": "python",
   "name": "python3"
  },
  "language_info": {
   "codemirror_mode": {
    "name": "ipython",
    "version": 3
   },
   "file_extension": ".py",
   "mimetype": "text/x-python",
   "name": "python",
   "nbconvert_exporter": "python",
   "pygments_lexer": "ipython3",
   "version": "3.7.4"
  }
 },
 "nbformat": 4,
 "nbformat_minor": 2
}
